{
 "cells": [
  {
   "cell_type": "markdown",
   "id": "3baeeccd-efec-42be-ab26-c1d034a3a71f",
   "metadata": {},
   "source": [
    "# KPIs\n",
    "This notebook contains ways to calculate each of the key marketing performance indicators (KPIs) proposed under our framework. \n",
    "\n",
    "\n"
   ]
  },
  {
   "cell_type": "code",
   "execution_count": 306,
   "id": "a2110405-0fb5-493a-a801-9ec4ed1ec1e8",
   "metadata": {},
   "outputs": [],
   "source": [
    "import pandas as pd\n",
    "import numpy as np"
   ]
  },
  {
   "cell_type": "code",
   "execution_count": 307,
   "id": "32acd62e-72f1-441e-9f78-d19b649d0658",
   "metadata": {},
   "outputs": [],
   "source": [
    "# Load in data\n",
    "df_awareness = pd.read_csv(\"./datasets/awareness_data.csv\")"
   ]
  },
  {
   "cell_type": "markdown",
   "id": "deef8221-7dba-4626-81f7-8c88d282f39f",
   "metadata": {},
   "source": [
    "## Awareness"
   ]
  },
  {
   "cell_type": "markdown",
   "id": "d5046c31-efb0-4d0e-804e-c5a00cb473fa",
   "metadata": {},
   "source": [
    "### 1. Total Ad Views/Impressions\n",
    "Number of unique viewers for an ad. \n"
   ]
  },
  {
   "cell_type": "code",
   "execution_count": 310,
   "id": "5ba1fdda-a1c9-44a4-82d2-d21010f05bd2",
   "metadata": {},
   "outputs": [
    {
     "name": "stdout",
     "output_type": "stream",
     "text": [
      "Number of unique impressions: 18345\n"
     ]
    }
   ],
   "source": [
    "# Total ad impressions\n",
    "users_with_impressions = df_awareness[df_awareness['total impressions'] > 0]['customer id'].nunique()\n",
    "print(f\"Number of unique impressions: {users_with_impressions}\")\n",
    "\n",
    "\n"
   ]
  },
  {
   "cell_type": "markdown",
   "id": "aef26645-eed5-4932-8603-43b257d68930",
   "metadata": {},
   "source": [
    "### 2. Website/Social media page Views/Impressions\n",
    "We can also look at unique website viewers, or compare the number of unique ad viewers between platforms to see which is more effective.\n"
   ]
  },
  {
   "cell_type": "code",
   "execution_count": 312,
   "id": "9cba9793-73f6-49ff-8151-8408db7f9ff3",
   "metadata": {},
   "outputs": [
    {
     "name": "stdout",
     "output_type": "stream",
     "text": [
      "Number of unique website impressions: 9980\n",
      "Number of unique Facebook impressions: 9964\n",
      "Number of unique Instagram impressions: 10037\n"
     ]
    }
   ],
   "source": [
    "# Total ad impressions\n",
    "users_with_impressions = df_awareness[df_awareness['website impressions'] > 0]['customer id'].nunique()\n",
    "print(f\"Number of unique website impressions: {users_with_impressions}\")\n",
    "\n",
    "\n",
    "# Can compare across platforms as well\n",
    "# Unique Facebook impressions\n",
    "users_with_impressions = df_awareness[df_awareness['fb impressions'] > 0]['customer id'].nunique()\n",
    "print(f\"Number of unique Facebook impressions: {users_with_impressions}\")\n",
    "\n",
    "# Can do the same for Instagram\n",
    "users_with_impressions = df_awareness[df_awareness['insta impressions'] > 0]['customer id'].nunique()\n",
    "print(f\"Number of unique Instagram impressions: {users_with_impressions}\")"
   ]
  },
  {
   "cell_type": "markdown",
   "id": "a2460e78-cdc2-4393-816c-e33b9127196e",
   "metadata": {},
   "source": [
    "### 3. Click through Rate(CTR)\n",
    "Number of people who clicked divided by the number of people who viewed the ad. Can look at overall CTR for comparison with past campaigns or compare between platforms."
   ]
  },
  {
   "cell_type": "code",
   "execution_count": 314,
   "id": "23a20140-cea2-4ae1-a147-9f0511abc54c",
   "metadata": {},
   "outputs": [
    {
     "name": "stdout",
     "output_type": "stream",
     "text": [
      "Click-Through Rate (CTR): 5.174791760287392 %\n",
      "Facebook Click-Through Rate (CTR): 5.638302938482683 %\n",
      "Instagram Click-Through Rate (CTR): 5.860667921910613 %\n"
     ]
    }
   ],
   "source": [
    "# Overall CTR\n",
    "ctr = df_awareness['total clicks'].sum() / df_awareness['total impressions'].sum() * 100\n",
    "\n",
    "# Print the result\n",
    "print(\"Click-Through Rate (CTR):\", ctr, \"%\")\n",
    "\n",
    "# Facebook CTR\n",
    "ctr = df_awareness['fb clicks'].sum() / df_awareness['fb impressions'].sum() * 100\n",
    "\n",
    "# Print the result\n",
    "print(\"Facebook Click-Through Rate (CTR):\", ctr, \"%\")\n",
    "\n",
    "# Instagram CTR\n",
    "ctr = df_awareness['insta clicks'].sum() / df_awareness['insta impressions'].sum() * 100\n",
    "\n",
    "# Print the result\n",
    "print(\"Instagram Click-Through Rate (CTR):\", ctr, \"%\")\n"
   ]
  },
  {
   "cell_type": "markdown",
   "id": "17f0a5f2-4381-40dd-b8e0-75e0c597c03c",
   "metadata": {},
   "source": [
    "### 4. Branded Search Volume\n",
    "Obtain numbers directly from search engine via services such as Google Ads or Google Trends."
   ]
  },
  {
   "cell_type": "markdown",
   "id": "334ba9e1-51b0-4e56-ae53-84bcf085536c",
   "metadata": {},
   "source": [
    "### 5. Social Media Mentions\n",
    "Not as important as the rest, mostly qualitative. Scrolling bank's social media mentions gives a quick sensing of sentiments towards bank."
   ]
  },
  {
   "cell_type": "markdown",
   "id": "b7f1f5c4-f356-4e78-8a33-bf73dac31d38",
   "metadata": {},
   "source": [
    "## Consideration"
   ]
  },
  {
   "cell_type": "code",
   "execution_count": 318,
   "id": "b1662eca-6a35-42d1-b94e-4c61e44bfbc8",
   "metadata": {},
   "outputs": [],
   "source": [
    "# Load data\n",
    "df_consideration = pd.read_csv(\"./datasets/consideration_data.csv\")"
   ]
  },
  {
   "cell_type": "markdown",
   "id": "750e5bf7-f710-4450-ac4f-e65d3d9a4728",
   "metadata": {},
   "source": [
    "### 1. Click through Rate(CTR)\n",
    "Number of people who clicked divided by the number of people who viewed the ad. Can look at overall CTR for comparison with past campaigns or compare between platforms."
   ]
  },
  {
   "cell_type": "code",
   "execution_count": 320,
   "id": "5a7daaa0-be75-4bef-a8c6-330e7a689413",
   "metadata": {},
   "outputs": [
    {
     "name": "stdout",
     "output_type": "stream",
     "text": [
      "Click-Through Rate (CTR): 9.1841155676583 %\n",
      "Facebook Click-Through Rate (CTR): 10.25856191967816 %\n",
      "Instagram Click-Through Rate (CTR): 10.133175282550363 %\n"
     ]
    }
   ],
   "source": [
    "# Overall CTR\n",
    "ctr = df_consideration['total clicks'].sum() / df_consideration['total impressions'].sum() * 100\n",
    "\n",
    "# Print the result\n",
    "print(\"Click-Through Rate (CTR):\", ctr, \"%\")\n",
    "\n",
    "# Facebook CTR\n",
    "ctr = df_consideration['fb clicks'].sum() / df_consideration['fb impressions'].sum() * 100\n",
    "\n",
    "# Print the result\n",
    "print(\"Facebook Click-Through Rate (CTR):\", ctr, \"%\")\n",
    "\n",
    "# Instagram CTR\n",
    "ctr = df_consideration['insta clicks'].sum() / df_consideration['insta impressions'].sum() * 100\n",
    "\n",
    "# Print the result\n",
    "print(\"Instagram Click-Through Rate (CTR):\", ctr, \"%\")\n"
   ]
  },
  {
   "cell_type": "markdown",
   "id": "0016a69f-bb67-49bc-a930-38b652f50e5e",
   "metadata": {},
   "source": [
    "### 2. Average website session duration\n",
    "Total time spent on website by all users divided by total visitors to website"
   ]
  },
  {
   "cell_type": "code",
   "execution_count": 322,
   "id": "0931bef1-3f6a-45cb-bc80-5b67f6fd9d51",
   "metadata": {},
   "outputs": [
    {
     "name": "stdout",
     "output_type": "stream",
     "text": [
      "Average website session duration : 2.3503824396358968 minutes\n"
     ]
    }
   ],
   "source": [
    "# Average session duration for users\n",
    "average_session_duration = df_consideration[df_consideration['website_session_duration'] > 0]['website_session_duration'].mean()\n",
    "\n",
    "print(f\"Average website session duration : {average_session_duration/60} minutes\")\n"
   ]
  },
  {
   "cell_type": "markdown",
   "id": "b77c7d2e-45c4-45b1-b082-3973e9bd2adc",
   "metadata": {},
   "source": [
    "### 3. Lead Generation Rate\n",
    "Total number of leads generated divided by duration of campaign"
   ]
  },
  {
   "cell_type": "code",
   "execution_count": 324,
   "id": "8226e123-336a-4857-a0e6-678b413b4f53",
   "metadata": {},
   "outputs": [
    {
     "name": "stdout",
     "output_type": "stream",
     "text": [
      "Total Leads Generated: 9752\n",
      "Leads Generation Rate: 975 leads per day\n"
     ]
    }
   ],
   "source": [
    "# Define a lead: Someone who either signed up for newsletter, downloaded brochure pdf or agreed to be contacted by bank\n",
    "df_consideration['is_lead'] = (df_consideration['signed_up_newsletter'] == 1) | (df_consideration['downloaded_brochure'] == 1) | (df_consideration['agree_to_contact'] == 1)\n",
    "\n",
    "# Total Leads Generated\n",
    "total_leads = df_consideration['is_lead'].sum()\n",
    "\n",
    "print(f\"Total Leads Generated: {total_leads}\")\n",
    "\n",
    "# Assuming campaign lasted 10 days\n",
    "print(f\"Leads Generation Rate: {round(total_leads/10)} leads per day\")\n",
    "\n"
   ]
  },
  {
   "cell_type": "markdown",
   "id": "0fd7bee0-14da-4720-bbff-ca6793e30ec7",
   "metadata": {},
   "source": [
    "### 4. Cost per Lead\n",
    "Total campaign cost divided by Leads generated during campaign"
   ]
  },
  {
   "cell_type": "code",
   "execution_count": 326,
   "id": "f2013310-3cec-46ab-b516-a5ca3dabf946",
   "metadata": {},
   "outputs": [
    {
     "name": "stdout",
     "output_type": "stream",
     "text": [
      "Cost per Lead: $11.24\n"
     ]
    }
   ],
   "source": [
    "# Total Ad Spend\n",
    "total_ad_spend = df_consideration['total ad spend'].sum()\n",
    "\n",
    "# Cost per Lead Calculation (Avoid division by zero)\n",
    "cost_per_lead = total_ad_spend / total_leads if total_leads > 0 else 0\n",
    "\n",
    "print(f\"Cost per Lead: ${cost_per_lead:.2f}\")"
   ]
  },
  {
   "cell_type": "markdown",
   "id": "88c84fbd-f995-42a5-a603-180f214b1b7b",
   "metadata": {},
   "source": [
    "## Conversion"
   ]
  },
  {
   "cell_type": "code",
   "execution_count": 328,
   "id": "f18847fa-35b8-46a0-8959-8d66f74040d2",
   "metadata": {},
   "outputs": [],
   "source": [
    "# Load data\n",
    "df_conversion = pd.read_csv(\"./datasets/conversion_data.csv\")"
   ]
  },
  {
   "cell_type": "markdown",
   "id": "41fe6319-b053-4da2-be64-c39d9e926c81",
   "metadata": {},
   "source": [
    "### 1. Conversion Rate\n",
    "Number of conversions divided by the number of unique impressions."
   ]
  },
  {
   "cell_type": "code",
   "execution_count": 330,
   "id": "8be37074-fee5-45bf-b00b-9b600f8d347f",
   "metadata": {},
   "outputs": [
    {
     "name": "stdout",
     "output_type": "stream",
     "text": [
      "Conversion rate(Impressions): 63% \n"
     ]
    }
   ],
   "source": [
    "# Define a conversion: Someone who either signed up for credit card,opened_savings_ account or took loan\n",
    "df_conversion['is_conversion'] = (df_conversion['signed_up_credit_card'] == 1) | (df_conversion['opened_savings_account'] == 1) | (df_conversion['took_loan'] == 1)\n",
    "\n",
    "# Total Conversions Generated\n",
    "total_conversions = df_conversion['is_conversion'].sum()\n",
    "\n",
    "# Total number of Impressions \n",
    "total_unique_impressions = df_conversion[df_conversion['total impressions'] > 0]['customer id'].nunique()\n",
    "\n",
    "print(f\"Conversion rate(Impressions): {round(total_conversions/total_unique_impressions*100)}% \")\n"
   ]
  },
  {
   "cell_type": "markdown",
   "id": "132d3649-0b6b-4ffa-aec3-8060c1b3e9b9",
   "metadata": {},
   "source": [
    "### 2. Total conversions\n",
    "Total number of conversions"
   ]
  },
  {
   "cell_type": "code",
   "execution_count": 332,
   "id": "6131e7d8-fb65-42b0-ade0-d9252374c76c",
   "metadata": {},
   "outputs": [
    {
     "name": "stdout",
     "output_type": "stream",
     "text": [
      "Conversions: 12657\n"
     ]
    }
   ],
   "source": [
    "# Define a conversion: Someone who either signed up for credit card,opened_savings_ account or took loan\n",
    "df_conversion['is_conversion'] = (df_conversion['signed_up_credit_card'] == 1) | (df_conversion['opened_savings_account'] == 1) | (df_conversion['took_loan'] == 1)\n",
    "\n",
    "# Total Conversions Generated\n",
    "total_conversions = df_conversion['is_conversion'].sum()\n",
    "\n",
    "print(f\"Conversions: {(total_conversions)}\")"
   ]
  },
  {
   "cell_type": "markdown",
   "id": "8f613e47-dc8e-48ae-ab12-a919274d20f8",
   "metadata": {},
   "source": [
    "### 3. Cost per Conversion\n",
    "Total amount of money spent by bank divided by number of conversions"
   ]
  },
  {
   "cell_type": "code",
   "execution_count": 334,
   "id": "f77d3152-ebf7-4bd6-bb45-f49b36f12c9e",
   "metadata": {},
   "outputs": [
    {
     "name": "stdout",
     "output_type": "stream",
     "text": [
      "Cost per Conversion: $8.66\n"
     ]
    }
   ],
   "source": [
    "# Define a conversion: Someone who either signed up for credit card,opened_savings_ account or took loan\n",
    "df_conversion['is_conversion'] = (df_conversion['signed_up_credit_card'] == 1) | (df_conversion['opened_savings_account'] == 1) | (df_conversion['took_loan'] == 1)\n",
    "\n",
    "# Total Conversions Generated\n",
    "total_conversions = df_conversion['is_conversion'].sum()\n",
    "\n",
    "# Total Ad Spend\n",
    "total_ad_spend = df_conversion['total ad spend'].sum()\n",
    "\n",
    "print(f\"Cost per Conversion: ${round((total_ad_spend/total_conversions),2)}\")"
   ]
  },
  {
   "cell_type": "markdown",
   "id": "e8166c4e-ac2a-457b-be13-7224ca460320",
   "metadata": {},
   "source": [
    "## Loyalty"
   ]
  },
  {
   "cell_type": "code",
   "execution_count": 336,
   "id": "cb401a06-aa77-4362-b160-3aaeee7b8e6d",
   "metadata": {},
   "outputs": [],
   "source": [
    "from datetime import datetime, timedelta\n",
    "# Load data\n",
    "df_loyalty= pd.read_csv(\"./datasets/loyalty_data.csv\")"
   ]
  },
  {
   "cell_type": "markdown",
   "id": "8b9569cc-8b6b-4666-a88b-24ac9a2bf91c",
   "metadata": {},
   "source": [
    "## 1. Churn Rate\n",
    "Customers lost over a time period divided by total customers at start of time period. Definitions of churn can vary, depending on bank. For this code demonstration we will treat customers who have not been active with any of the bank's products and services in the last 2 months as churn."
   ]
  },
  {
   "cell_type": "code",
   "execution_count": 338,
   "id": "19523529-e9a7-4249-9c14-8a1161ad1b49",
   "metadata": {},
   "outputs": [
    {
     "name": "stdout",
     "output_type": "stream",
     "text": [
      "Total Customers 2 Months Ago: 4754\n",
      "Churned Users (No Activity in Last 2 Months): 288\n",
      "Churn Rate: 6.06%\n"
     ]
    }
   ],
   "source": [
    "# Convert dates to datetime\n",
    "df_loyalty['bank_last_active'] = pd.to_datetime(df_loyalty['bank_last_active'])\n",
    "df_loyalty['bank_signup_date'] = pd.to_datetime(df_loyalty['bank_signup_date'])\n",
    "\n",
    "# Define time windows\n",
    "today = datetime.today()\n",
    "cutoff_2mths = today - timedelta(days=60) # 2 months ago\n",
    "cutoff_4mths = today - timedelta(days=120) # 4 months ago\n",
    "\n",
    "# Total active Customers 2 Months Ago (active after cutoff_4mths OR active recently, but signed up before cutoff_2mths)\n",
    "total_customers_2mths_ago = df_loyalty[\n",
    "    (df_loyalty['bank_signup_date'] < cutoff_2mths) &  # Signed up before 2 months ago\n",
    "    (\n",
    "        (df_loyalty['bank_last_active'] > cutoff_4mths) |  # Were active after 4 months ago\n",
    "        (df_loyalty['bank_last_active'].between(cutoff_2mths, today))  # OR active in last 2 months\n",
    "    )\n",
    "].shape[0]\n",
    "\n",
    "# Churned Users: Were active after 4 months ago but not in the last 2 months\n",
    "churned_users = df_loyalty[\n",
    "    (df_loyalty['bank_signup_date'] < cutoff_2mths) & \n",
    "    (df_loyalty['bank_last_active'] > cutoff_4mths) &  # Last active before 2 months ago\n",
    "    (~df_loyalty['bank_last_active'].between(cutoff_2mths, today))  # No activity in last 2 months\n",
    "].shape[0]\n",
    "\n",
    "# Churn Rate\n",
    "churn_rate = churned_users / total_customers_2mths_ago if total_customers_2mths_ago > 0 else 0\n",
    "\n",
    "print(f\"Total Customers 2 Months Ago: {total_customers_2mths_ago}\")\n",
    "print(f\"Churned Users (No Activity in Last 2 Months): {churned_users}\")\n",
    "print(f\"Churn Rate: {churn_rate:.2%}\")"
   ]
  },
  {
   "cell_type": "markdown",
   "id": "20bb293b-e888-4197-ba90-e371a1287613",
   "metadata": {},
   "source": [
    "### 2. Active engagement rate for loyalty programs\n",
    "Number of customers active in the loyalty program in the past 3 months divided by total participants in the loyalty program"
   ]
  },
  {
   "cell_type": "code",
   "execution_count": 340,
   "id": "24535c2f-3d91-4c0e-9d88-ca15fc4b6e14",
   "metadata": {},
   "outputs": [
    {
     "name": "stdout",
     "output_type": "stream",
     "text": [
      "Total Loyalty Program Members: 3019\n",
      "Active in Last 3 Months: 2025\n",
      "Percentage Active: 67.1%\n"
     ]
    }
   ],
   "source": [
    "# Ensure datetime format\n",
    "df_loyalty['loyalty_last_active'] = pd.to_datetime(df_loyalty['loyalty_last_active'])\n",
    "\n",
    "# Filter all loyalty program members\n",
    "all_loyalty_members = df_loyalty[df_loyalty['loyalty_program'] == 1]\n",
    "\n",
    "# Filter active members (last active in the last 3 months)\n",
    "active_loyalty_members = all_loyalty_members[\n",
    "    all_loyalty_members['loyalty_last_active'] >= (datetime.now() - timedelta(days=90))\n",
    "]\n",
    "\n",
    "# Calculate counts and percentage\n",
    "total_loyalty = all_loyalty_members.shape[0]\n",
    "total_active = active_loyalty_members.shape[0]\n",
    "active_percentage = (total_active / total_loyalty) * 100 if total_loyalty > 0 else 0\n",
    "\n",
    "# Print results\n",
    "print(f\"Total Loyalty Program Members: {total_loyalty}\")\n",
    "print(f\"Active in Last 3 Months: {total_active}\")\n",
    "print(f\"Percentage Active: {active_percentage:.1f}%\")"
   ]
  },
  {
   "cell_type": "markdown",
   "id": "a7005748-ad39-4761-9ca5-43d1efafebb5",
   "metadata": {},
   "source": [
    "### 3. Customer Lifetime Value\n",
    "Average yearly revenue per customer multiplied by average customer lifespan minus customer acquisition cost"
   ]
  },
  {
   "cell_type": "code",
   "execution_count": 342,
   "id": "5da13b7e-065e-4f58-b3cc-f61f5d695f32",
   "metadata": {},
   "outputs": [
    {
     "name": "stdout",
     "output_type": "stream",
     "text": [
      "Average Yearly Revenue per Customer: $4,304.27\n",
      "Average Customer Lifespan: 5.08 years\n",
      "Average Acquisition Cost: $256.91\n",
      "\n",
      "Customer Lifetime Value (CLV): $21,621.73\n"
     ]
    }
   ],
   "source": [
    "# Convert tenure from days to years for lifespan calculation\n",
    "df_loyalty['customer_tenure_years'] = df_loyalty['customer_tenure_days'] / 365\n",
    "\n",
    "# 1. Calculate Average Revenue per Customer (ARPC)\n",
    "average_revenue_per_customer = df_loyalty['yearly_average_customer_revenue'].sum() / len(df_loyalty)\n",
    "\n",
    "# 2. Calculate Average Customer Lifespan (in years)\n",
    "average_customer_lifespan = df_loyalty['customer_tenure_years'].mean()\n",
    "\n",
    "# 3. Calculate Average Customer Acquisition Cost (CAC)\n",
    "average_acquisition_cost = df_loyalty['customer_acquisition_cost'].sum() / len(df_loyalty)\n",
    "\n",
    "# 4. Compute Customer Lifetime Value (CLV)\n",
    "customer_lifetime_value = (average_revenue_per_customer * average_customer_lifespan) - average_acquisition_cost\n",
    "\n",
    "# Print results\n",
    "print(f\"Average Yearly Revenue per Customer: ${average_revenue_per_customer:,.2f}\")\n",
    "print(f\"Average Customer Lifespan: {average_customer_lifespan:.2f} years\")\n",
    "print(f\"Average Acquisition Cost: ${average_acquisition_cost:,.2f}\")\n",
    "print(f\"\\nCustomer Lifetime Value (CLV): ${customer_lifetime_value:,.2f}\")"
   ]
  },
  {
   "cell_type": "code",
   "execution_count": null,
   "id": "fd705ceb-8701-470a-8f5b-affdc1c440f9",
   "metadata": {},
   "outputs": [],
   "source": []
  },
  {
   "cell_type": "code",
   "execution_count": null,
   "id": "f7227347-ee19-4900-868e-648bf9fff840",
   "metadata": {},
   "outputs": [],
   "source": []
  }
 ],
 "metadata": {
  "kernelspec": {
   "display_name": "Python 3 (ipykernel)",
   "language": "python",
   "name": "python3"
  },
  "language_info": {
   "codemirror_mode": {
    "name": "ipython",
    "version": 3
   },
   "file_extension": ".py",
   "mimetype": "text/x-python",
   "name": "python",
   "nbconvert_exporter": "python",
   "pygments_lexer": "ipython3",
   "version": "3.12.4"
  }
 },
 "nbformat": 4,
 "nbformat_minor": 5
}
